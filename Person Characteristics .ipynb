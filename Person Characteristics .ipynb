{
 "cells": [
  {
   "cell_type": "code",
   "execution_count": 2,
   "metadata": {},
   "outputs": [],
   "source": [
    "# Import the necessary Libraries for the Hierarchical Clustering\n",
    "from pandas import read_excel, merge\n",
    "from numpy import arange\n",
    "import matplotlib.pyplot as plt\n",
    "import scipy.cluster.hierarchy as shc\n",
    "from sklearn.cluster import KMeans\n",
    "from sklearn.decomposition import PCA"
   ]
  },
  {
   "cell_type": "code",
   "execution_count": 6,
   "metadata": {},
   "outputs": [],
   "source": [
    "# Load the Dataset\n",
    "df = read_excel('features.xlsx', sheet_name = 1)"
   ]
  },
  {
   "cell_type": "code",
   "execution_count": 7,
   "metadata": {
    "scrolled": true
   },
   "outputs": [
    {
     "data": {
      "text/html": [
       "<div>\n",
       "<style scoped>\n",
       "    .dataframe tbody tr th:only-of-type {\n",
       "        vertical-align: middle;\n",
       "    }\n",
       "\n",
       "    .dataframe tbody tr th {\n",
       "        vertical-align: top;\n",
       "    }\n",
       "\n",
       "    .dataframe thead th {\n",
       "        text-align: right;\n",
       "    }\n",
       "</style>\n",
       "<table border=\"1\" class=\"dataframe\">\n",
       "  <thead>\n",
       "    <tr style=\"text-align: right;\">\n",
       "      <th></th>\n",
       "      <th>Person</th>\n",
       "      <th>Happy</th>\n",
       "      <th>Neutral</th>\n",
       "      <th>Surprise</th>\n",
       "    </tr>\n",
       "  </thead>\n",
       "  <tbody>\n",
       "    <tr>\n",
       "      <td>0</td>\n",
       "      <td>1</td>\n",
       "      <td>1.0</td>\n",
       "      <td>1.01220</td>\n",
       "      <td>1.2094</td>\n",
       "    </tr>\n",
       "    <tr>\n",
       "      <td>1</td>\n",
       "      <td>2</td>\n",
       "      <td>1.0</td>\n",
       "      <td>0.95644</td>\n",
       "      <td>1.1240</td>\n",
       "    </tr>\n",
       "    <tr>\n",
       "      <td>2</td>\n",
       "      <td>3</td>\n",
       "      <td>1.0</td>\n",
       "      <td>1.04500</td>\n",
       "      <td>1.3142</td>\n",
       "    </tr>\n",
       "    <tr>\n",
       "      <td>3</td>\n",
       "      <td>4</td>\n",
       "      <td>1.0</td>\n",
       "      <td>0.93299</td>\n",
       "      <td>1.2176</td>\n",
       "    </tr>\n",
       "    <tr>\n",
       "      <td>4</td>\n",
       "      <td>5</td>\n",
       "      <td>1.0</td>\n",
       "      <td>1.01620</td>\n",
       "      <td>1.2100</td>\n",
       "    </tr>\n",
       "  </tbody>\n",
       "</table>\n",
       "</div>"
      ],
      "text/plain": [
       "   Person  Happy  Neutral  Surprise\n",
       "0       1    1.0  1.01220    1.2094\n",
       "1       2    1.0  0.95644    1.1240\n",
       "2       3    1.0  1.04500    1.3142\n",
       "3       4    1.0  0.93299    1.2176\n",
       "4       5    1.0  1.01620    1.2100"
      ]
     },
     "execution_count": 7,
     "metadata": {},
     "output_type": "execute_result"
    }
   ],
   "source": [
    "df.head()"
   ]
  },
  {
   "cell_type": "code",
   "execution_count": 11,
   "metadata": {},
   "outputs": [
    {
     "data": {
      "text/plain": [
       "array([[1.      , 1.0122  , 1.2094  ],\n",
       "       [1.      , 0.95644 , 1.124   ],\n",
       "       [1.      , 1.045   , 1.3142  ],\n",
       "       [1.      , 0.93299 , 1.2176  ],\n",
       "       [1.      , 1.0162  , 1.21    ],\n",
       "       [1.      , 1.0238  , 1.3415  ],\n",
       "       [1.      , 0.96889 , 1.3869  ],\n",
       "       [1.      , 0.93921 , 1.2212  ],\n",
       "       [1.      , 1.0188  , 1.4037  ],\n",
       "       [1.      , 1.0761  , 1.226   ],\n",
       "       [1.      , 0.90489 , 1.2063  ],\n",
       "       [1.      , 0.88083 , 1.2485  ],\n",
       "       [1.      , 0.9032  , 1.1006  ],\n",
       "       [1.      , 1.0491  , 1.2683  ],\n",
       "       [1.      , 1.0676  , 1.2656  ],\n",
       "       [1.      , 1.0428  , 1.2826  ],\n",
       "       [1.      , 0.86195 , 1.0732  ],\n",
       "       [1.      , 1.0414  , 1.2463  ],\n",
       "       [1.      , 1.1233  , 1.5146  ],\n",
       "       [1.      , 1.0605  , 1.1992  ],\n",
       "       [1.      , 0.88145 , 1.2878  ],\n",
       "       [1.      , 0.88581 , 1.1404  ],\n",
       "       [1.      , 1.0513  , 0.99547 ],\n",
       "       [1.      , 0.95508 , 1.3721  ],\n",
       "       [1.      , 1.1112  , 1.3466  ],\n",
       "       [1.      , 1.0125  , 1.2852  ],\n",
       "       [1.      , 1.004   , 1.122   ],\n",
       "       [1.      , 0.93103 , 1.1278  ],\n",
       "       [1.      , 0.9651  , 1.1142  ],\n",
       "       [1.      , 0.99084 , 1.2426  ],\n",
       "       [1.      , 0.92523 , 1.4504  ],\n",
       "       [1.      , 1.0212  , 1.508   ],\n",
       "       [1.      , 1.1062  , 1.2193  ],\n",
       "       [1.      , 0.96944 , 1.4376  ],\n",
       "       [1.      , 1.0161  , 1.2338  ],\n",
       "       [1.      , 1.0575  , 1.3704  ],\n",
       "       [1.      , 1.1107  , 1.3415  ],\n",
       "       [1.      , 1.0941  , 1.2584  ],\n",
       "       [1.      , 1.1396  , 1.2966  ],\n",
       "       [1.      , 1.0533  , 1.2167  ],\n",
       "       [1.      , 1.044   , 1.3371  ],\n",
       "       [1.      , 0.97567 , 1.3978  ],\n",
       "       [1.      , 1.0063  , 1.3     ],\n",
       "       [1.      , 0.95652 , 1.3486  ],\n",
       "       [1.      , 1.0112  , 1.2893  ],\n",
       "       [1.      , 0.96823 , 1.343   ],\n",
       "       [1.      , 1.0529  , 1.6199  ],\n",
       "       [1.      , 1.0254  , 1.2872  ],\n",
       "       [1.      , 1.0753  , 1.4265  ],\n",
       "       [1.      , 0.89451 , 1.38    ],\n",
       "       [1.      , 0.99337 , 1.1933  ],\n",
       "       [1.      , 1.1022  , 1.3565  ],\n",
       "       [1.      , 0.95567 , 1.1075  ],\n",
       "       [1.      , 1.0571  , 1.2893  ],\n",
       "       [1.      , 0.91165 , 1.1122  ],\n",
       "       [1.      , 0.97127 , 1.1276  ],\n",
       "       [1.      , 1.119   , 1.3824  ],\n",
       "       [1.      , 0.99311 , 1.3768  ],\n",
       "       [1.      , 0.84842 , 1.1604  ],\n",
       "       [1.      , 0.99388 , 1.2718  ],\n",
       "       [1.      , 1.0347  , 1.3318  ],\n",
       "       [1.      , 1.0423  , 1.1703  ],\n",
       "       [1.      , 0.9731  , 1.0709  ],\n",
       "       [1.      , 0.87763 , 1.5456  ],\n",
       "       [1.      , 0.88965 , 1.2666  ],\n",
       "       [1.      , 0.9627  , 1.051   ],\n",
       "       [1.      , 0.95875 , 1.4348  ],\n",
       "       [1.      , 0.91865 , 1.3814  ],\n",
       "       [1.      , 0.86459 , 1.2759  ],\n",
       "       [1.      , 0.96209 , 1.387   ],\n",
       "       [1.      , 0.96342 , 1.4707  ],\n",
       "       [1.      , 0.92414 , 1.0509  ],\n",
       "       [1.      , 0.92828 , 1.2148  ],\n",
       "       [1.      , 0.81472 , 1.176   ],\n",
       "       [1.      , 0.90175 , 1.2629  ],\n",
       "       [1.      , 0.98147 , 1.3181  ],\n",
       "       [1.      , 1.014   , 1.304   ],\n",
       "       [1.      , 0.84192 , 1.1266  ],\n",
       "       [1.      , 1.0223  , 1.2127  ],\n",
       "       [1.      , 1.0341  , 1.3355  ],\n",
       "       [1.      , 0.88757 , 1.3058  ],\n",
       "       [1.      , 0.96373 , 1.4575  ],\n",
       "       [1.      , 0.99815 , 1.2911  ],\n",
       "       [0.09998 , 0.099986, 0.37199 ],\n",
       "       [0.069767, 0.037736, 0.26307 ],\n",
       "       [0.046499, 0.09992 , 0.59346 ],\n",
       "       [0.09972 , 0.18515 , 0.33918 ],\n",
       "       [0.11891 , 2.2312  , 0.13459 ],\n",
       "       [0.04878 , 0.055546, 0.4284  ],\n",
       "       [0.046399, 0.14914 , 0.39935 ],\n",
       "       [0.08854 , 1.3956  , 0.34023 ],\n",
       "       [0.047606, 1.86    , 0.37082 ],\n",
       "       [0.302   , 0.16129 , 0.36214 ],\n",
       "       [0.090909, 0.016127, 0.48552 ],\n",
       "       [0.068182, 0.017533, 0.42787 ],\n",
       "       [0.018785, 0.18685 , 0.022217],\n",
       "       [0.046499, 0.021233, 0.5614  ],\n",
       "       [0.073171, 0.030289, 0.35279 ],\n",
       "       [0.068024, 0.037709, 0.66182 ],\n",
       "       [0.090909, 0.018134, 0.059988],\n",
       "       [0.12816 , 0.058778, 0.52893 ],\n",
       "       [0.13031 , 0.15084 , 0.81092 ],\n",
       "       [0.083315, 0.090894, 0.29963 ],\n",
       "       [0.043437, 1.4474  , 0.48492 ],\n",
       "       [0.069598, 0.043468, 0.43309 ],\n",
       "       [0.34106 , 0.045408, 0.19437 ],\n",
       "       [0.076696, 0.16667 , 0.68802 ],\n",
       "       [2.5317  , 0.036936, 0.60495 ],\n",
       "       [0.063815, 0.019199, 0.15131 ],\n",
       "       [0.058722, 0.24008 , 0.04448 ],\n",
       "       [0.0462  , 0.1427  , 0.41017 ],\n",
       "       [0.066667, 0.053563, 0.325   ],\n",
       "       [0.28941 , 0.065259, 0.52697 ],\n",
       "       [0.095238, 0.029798, 0.59781 ],\n",
       "       [0.38636 , 0.067543, 0.6053  ],\n",
       "       [0.116   , 0.042748, 0.22493 ],\n",
       "       [0.057597, 0.046852, 0.32558 ],\n",
       "       [0.068164, 0.049993, 0.3332  ],\n",
       "       [0.047606, 0.049993, 0.060606],\n",
       "       [0.073149, 0.23383 , 0.42424 ],\n",
       "       [0.090815, 1.9067  , 0.5285  ],\n",
       "       [0.0222  , 0.044942, 0.137   ],\n",
       "       [0.33327 , 0.038922, 0.57944 ],\n",
       "       [0.066667, 0.34981 , 0.044444],\n",
       "       [0.06383 , 0.039801, 0.52918 ],\n",
       "       [0.17949 , 0.14283 , 0.55364 ],\n",
       "       [0.38462 , 0.017218, 0.73582 ],\n",
       "       [0.068164, 1.7969  , 0.51421 ],\n",
       "       [0.10408 , 0.019604, 0.54197 ],\n",
       "       [0.29515 , 0.019142, 0.50843 ],\n",
       "       [0.14234 , 1.9915  , 0.2856  ],\n",
       "       [0.11891 , 1.2704  , 0.30715 ],\n",
       "       [0.086957, 0.032254, 0.028525],\n",
       "       [0.092923, 0.074023, 0.57157 ],\n",
       "       [0.29963 , 0.28998 , 0.37824 ],\n",
       "       [0.088692, 0.032769, 0.1488  ],\n",
       "       [0.053741, 0.017218, 0.5514  ],\n",
       "       [0.099875, 0.14259 , 0.60606 ],\n",
       "       [2.0248  , 0.050386, 0.076898],\n",
       "       [0.065202, 0.036214, 0.49981 ],\n",
       "       [0.21951 , 0.063484, 0.86667 ],\n",
       "       [0.083315, 0.090849, 0.2325  ],\n",
       "       [0.078296, 0.053537, 0.57157 ],\n",
       "       [0.39024 , 1.8418  , 0.35233 ],\n",
       "       [0.086936, 0.23862 , 0.64841 ],\n",
       "       [0.11962 , 1.2965  , 0.24942 ],\n",
       "       [0.065156, 0.054509, 0.58132 ],\n",
       "       [0.12994 , 0.041667, 0.55244 ],\n",
       "       [0.1621  , 0.39468 , 0.34104 ],\n",
       "       [0.097532, 0.28548 , 0.49903 ],\n",
       "       [0.48784 , 0.31742 , 0.75428 ],\n",
       "       [0.12191 , 0.070165, 0.81934 ],\n",
       "       [0.083333, 0.033333, 0.43575 ],\n",
       "       [0.11821 , 0.32038 , 0.51521 ],\n",
       "       [0.020829, 0.32038 , 0.027778],\n",
       "       [0.10864 , 0.083333, 0.31535 ],\n",
       "       [0.28443 , 0.24469 , 0.72242 ],\n",
       "       [0.10256 , 0.060495, 0.41848 ],\n",
       "       [0.074977, 0.20404 , 0.64594 ],\n",
       "       [0.32646 , 0.072715, 0.052559],\n",
       "       [0.09802 , 1.5707  , 0.56081 ],\n",
       "       [0.095211, 0.20339 , 0.43665 ],\n",
       "       [0.08    , 0.18367 , 0.31557 ],\n",
       "       [0.060908, 2.4116  , 0.38874 ],\n",
       "       [0.10226 , 0.37209 , 0.78644 ],\n",
       "       [0.10867 , 0.032787, 0.24245 ]])"
      ]
     },
     "execution_count": 11,
     "metadata": {},
     "output_type": "execute_result"
    }
   ],
   "source": [
    "data = df.iloc[:, 1:4].values\n",
    "data"
   ]
  },
  {
   "cell_type": "code",
   "execution_count": 12,
   "metadata": {},
   "outputs": [
    {
     "data": {
      "image/png": "[encoded data removed]",
      "text/plain": [
       "<Figure size 720x504 with 1 Axes>"
      ]
     },
     "metadata": {
      "needs_background": "light"
     },
     "output_type": "display_data"
    }
   ],
   "source": [
    "plt.figure(figsize=(10, 7))\n",
    "plt.title(\"Persons Dendograms\")\n",
    "dend = shc.dendrogram(shc.linkage(data, method='ward'))"
   ]
  },
  {
   "cell_type": "code",
   "execution_count": 14,
   "metadata": {},
   "outputs": [
    {
     "data": {
      "text/plain": [
       "<matplotlib.lines.Line2D at 0x124729eb8>"
      ]
     },
     "execution_count": 14,
     "metadata": {},
     "output_type": "execute_result"
    },
    {
     "data": {
      "image/png": "[encoded data removed]",
      "text/plain": [
       "<Figure size 720x504 with 1 Axes>"
      ]
     },
     "metadata": {
      "needs_background": "light"
     },
     "output_type": "display_data"
    }
   ],
   "source": [
    "plt.figure(figsize=(10, 7))\n",
    "plt.title(\"Persons Dendograms\")\n",
    "dend = shc.dendrogram(shc.linkage(data, method='ward'))\n",
    "plt.axhline(y=2, color='r', linestyle='--')"
   ]
  },
  {
   "cell_type": "code",
   "execution_count": 15,
   "metadata": {},
   "outputs": [
    {
     "data": {
      "text/plain": [
       "array([1, 1, 1, 1, 1, 1, 1, 1, 1, 1, 1, 1, 1, 1, 1, 1, 1, 1, 1, 1, 1, 1,\n",
       "       1, 1, 1, 1, 1, 1, 1, 1, 1, 1, 1, 1, 1, 1, 1, 1, 1, 1, 1, 1, 1, 1,\n",
       "       1, 1, 1, 1, 1, 1, 1, 1, 1, 1, 1, 1, 1, 1, 1, 1, 1, 1, 1, 1, 1, 1,\n",
       "       1, 1, 1, 1, 1, 1, 1, 1, 1, 1, 1, 1, 1, 1, 1, 1, 1, 0, 0, 0, 0, 2,\n",
       "       0, 0, 2, 2, 0, 0, 0, 0, 0, 0, 0, 0, 0, 0, 0, 2, 0, 0, 0, 3, 0, 0,\n",
       "       0, 0, 0, 0, 0, 0, 0, 0, 0, 0, 2, 0, 0, 0, 0, 0, 0, 2, 0, 0, 2, 2,\n",
       "       0, 0, 0, 0, 0, 0, 3, 0, 0, 0, 0, 2, 0, 2, 0, 0, 0, 0, 0, 0, 0, 0,\n",
       "       0, 0, 0, 0, 0, 0, 2, 0, 0, 2, 0, 0])"
      ]
     },
     "execution_count": 15,
     "metadata": {},
     "output_type": "execute_result"
    }
   ],
   "source": [
    "from sklearn.cluster import AgglomerativeClustering\n",
    "cluster = AgglomerativeClustering(n_clusters=4, affinity='euclidean', linkage='ward')\n",
    "cluster.fit_predict(data)"
   ]
  },
  {
   "cell_type": "code",
   "execution_count": 16,
   "metadata": {},
   "outputs": [
    {
     "data": {
      "text/plain": [
       "array([3, 3, 3, 3, 3, 3, 3, 3, 3, 3, 3, 3, 3, 3, 3, 3, 3, 3, 3, 3, 3, 3,\n",
       "       3, 3, 3, 3, 3, 3, 3, 3, 3, 3, 3, 3, 3, 3, 3, 3, 3, 3, 3, 3, 3, 3,\n",
       "       3, 3, 3, 3, 3, 3, 3, 3, 3, 3, 3, 3, 3, 3, 3, 3, 3, 3, 3, 3, 3, 3,\n",
       "       3, 3, 3, 3, 3, 3, 3, 3, 3, 3, 3, 3, 3, 3, 3, 3, 3, 2, 2, 2, 2, 0,\n",
       "       2, 2, 0, 0, 2, 2, 2, 2, 2, 2, 2, 2, 2, 2, 2, 0, 2, 2, 2, 1, 2, 2,\n",
       "       2, 2, 2, 2, 2, 2, 2, 2, 2, 2, 0, 2, 2, 2, 2, 2, 2, 0, 2, 2, 0, 0,\n",
       "       2, 2, 2, 2, 2, 2, 1, 2, 2, 2, 2, 0, 2, 0, 2, 2, 2, 2, 2, 2, 2, 2,\n",
       "       2, 2, 2, 2, 2, 2, 0, 2, 2, 0, 2, 2])"
      ]
     },
     "execution_count": 16,
     "metadata": {},
     "output_type": "execute_result"
    }
   ],
   "source": [
    "cluster = AgglomerativeClustering(n_clusters=4, affinity='euclidean', linkage='complete')\n",
    "cluster.fit_predict(data)"
   ]
  },
  {
   "cell_type": "code",
   "execution_count": 19,
   "metadata": {},
   "outputs": [
    {
     "data": {
      "text/plain": [
       "array([3, 3, 3, 3, 3, 3, 3, 3, 3, 3, 3, 3, 3, 3, 3, 3, 3, 3, 3, 3, 3, 3,\n",
       "       3, 3, 3, 3, 3, 3, 3, 3, 3, 3, 3, 3, 3, 3, 3, 3, 3, 3, 3, 3, 3, 3,\n",
       "       3, 3, 3, 3, 3, 3, 3, 3, 3, 3, 3, 3, 3, 3, 3, 3, 3, 3, 3, 3, 3, 3,\n",
       "       3, 3, 3, 3, 3, 3, 3, 3, 3, 3, 3, 3, 3, 3, 3, 3, 3, 2, 2, 2, 2, 1,\n",
       "       2, 2, 1, 1, 2, 2, 2, 2, 2, 2, 2, 2, 2, 2, 2, 1, 2, 2, 2, 0, 2, 2,\n",
       "       2, 2, 2, 2, 2, 2, 2, 2, 2, 2, 1, 2, 2, 2, 2, 2, 2, 1, 2, 2, 1, 1,\n",
       "       2, 2, 2, 2, 2, 2, 0, 2, 2, 2, 2, 1, 2, 1, 2, 2, 2, 2, 2, 2, 2, 2,\n",
       "       2, 2, 2, 2, 2, 2, 1, 2, 2, 1, 2, 2])"
      ]
     },
     "execution_count": 19,
     "metadata": {},
     "output_type": "execute_result"
    }
   ],
   "source": [
    "cluster = AgglomerativeClustering(n_clusters=4, affinity='euclidean', linkage='average')\n",
    "cluster.fit_predict(data)"
   ]
  },
  {
   "cell_type": "code",
   "execution_count": 18,
   "metadata": {},
   "outputs": [
    {
     "data": {
      "text/plain": [
       "array([2, 2, 2, 2, 2, 2, 2, 2, 2, 2, 2, 2, 2, 2, 2, 2, 2, 2, 2, 2, 2, 2,\n",
       "       2, 2, 2, 2, 2, 2, 2, 2, 2, 2, 2, 2, 2, 2, 2, 2, 2, 2, 2, 2, 2, 2,\n",
       "       2, 2, 2, 2, 2, 2, 2, 2, 2, 2, 2, 2, 2, 2, 2, 2, 2, 2, 2, 2, 2, 2,\n",
       "       2, 2, 2, 2, 2, 2, 2, 2, 2, 2, 2, 2, 2, 2, 2, 2, 2, 0, 0, 0, 0, 1,\n",
       "       0, 0, 1, 1, 0, 0, 0, 0, 0, 0, 0, 0, 0, 0, 0, 1, 0, 0, 0, 3, 0, 0,\n",
       "       0, 0, 0, 0, 0, 0, 0, 0, 0, 0, 1, 0, 0, 0, 0, 0, 0, 1, 0, 0, 1, 1,\n",
       "       0, 0, 0, 0, 0, 0, 3, 0, 0, 0, 0, 1, 0, 1, 0, 0, 0, 0, 0, 0, 0, 0,\n",
       "       0, 0, 0, 0, 0, 0, 1, 0, 0, 1, 0, 0])"
      ]
     },
     "execution_count": 18,
     "metadata": {},
     "output_type": "execute_result"
    }
   ],
   "source": [
    "cluster = AgglomerativeClustering(n_clusters=4, affinity='manhattan', linkage='complete')\n",
    "cluster.fit_predict(data)"
   ]
  },
  {
   "cell_type": "code",
   "execution_count": 20,
   "metadata": {},
   "outputs": [
    {
     "data": {
      "text/plain": [
       "<matplotlib.collections.PathCollection at 0x126dba128>"
      ]
     },
     "execution_count": 20,
     "metadata": {},
     "output_type": "execute_result"
    },
    {
     "data": {
      "image/png": "[encoded data removed]",
      "text/plain": [
       "<Figure size 720x504 with 1 Axes>"
      ]
     },
     "metadata": {
      "needs_background": "light"
     },
     "output_type": "display_data"
    }
   ],
   "source": [
    "plt.figure(figsize=(10, 7))\n",
    "plt.axis([0,1.1,0,2])\n",
    "plt.scatter(data[:,0], data[:,1],  c=cluster.labels_, cmap='rainbow')"
   ]
  },
  {
   "cell_type": "code",
   "execution_count": null,
   "metadata": {},
   "outputs": [],
   "source": []
  }
 ],
 "metadata": {
  "kernelspec": {
   "display_name": "Python 3",
   "language": "python",
   "name": "python3"
  },
  "language_info": {
   "codemirror_mode": {
    "name": "ipython",
    "version": 3
   },
   "file_extension": ".py",
   "mimetype": "text/x-python",
   "name": "python",
   "nbconvert_exporter": "python",
   "pygments_lexer": "ipython3",
   "version": "3.6.9"
  }
 },
 "nbformat": 4,
 "nbformat_minor": 2
}
